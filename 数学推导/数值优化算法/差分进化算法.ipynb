{
 "cells": [
  {
   "cell_type": "markdown",
   "id": "awful-ontario",
   "metadata": {},
   "source": [
    "# 差分进化算法（Differential Evolution）"
   ]
  },
  {
   "cell_type": "markdown",
   "id": "native-festival",
   "metadata": {},
   "source": [
    "## DE算法简介\n",
    "\n",
    "`Differential Evolution`（DE）是由Storn等人于1995年提出的，和其它演化算法一样，DE是一种模拟生物进化的随机模型，通过反复迭代，使得那些适应环境的个体被保存了下来。但相比于进化算法，DE保留了基于种群的全局搜索策略，采用实数编码、基于差分的简单变异操作和一对一的竞争生存策略，降低了遗传操作的复杂性。同时，DE特有的记忆能力使其可以动态跟踪当前的搜索情况，以调整其搜索策略，具有较强的全局收敛能力和鲁棒性，且不需要借助问题的特征信息，适于求解一些利用常规的数学规划方法所无法求解的复杂环境中的优化问题。\n",
    "\n",
    "DE 算法主要用于求解连续变量的全局优化问题。\n",
    "\n",
    "其主要工作步骤与其他进化算法基本一致，主要包括变异(Mutation)、交叉(Crossover)、选择(Selection)三种操作。\n",
    "\n",
    "- 算法的基本思想是从某一随机产生的初始群体开始，利用从种群中随机选取的两个个体的差向量作为第三个个体的随机变化源，将差向量加权后按照一定的规则与第三个个体求和而产生变异个体，该操作称为变异。\n",
    "- 然后，变异个体与某个预先决定的目标个体进行参数混合，生成试验个体，这一过程称之为交叉。\n",
    "- 如果试验个体的适应度值优于目标个体的适应度值，则在下一代中试验个体取代目标个体，否则目标个体仍保存下来，该操作称为选择。\n",
    "\n",
    "在每一代的进化过程中，每一个体矢量作为目标个体一次，算法通过不断地迭代计算，保留优良个体，淘汰劣质个体，引导搜索过程向全局最优解逼近。"
   ]
  },
  {
   "cell_type": "markdown",
   "id": "rocky-boards",
   "metadata": {},
   "source": [
    "## DE与GA的关系\n",
    "\n",
    "差分进化算法相对于遗传算法而言，相同点都是通过随机生成初始种群，以种群中每个个体的适应度值为选择标准，主要过程也都包括变异、交叉和选择三个步骤。不同之处在于遗传算法是根据适应度值来控制父代杂交，变异后产生的子代被选择的概率值，在最大化问题中适应值大的个体被选择的概率相应也会大一些。而差分进化算法变异向量是由父代差分向量生成，并与父代个体向量交叉生成新个体向量，直接与其父代个体进行选择。显然差分进化算法相对遗传算法的逼近效果更加显著。"
   ]
  },
  {
   "cell_type": "markdown",
   "id": "satisfied-theme",
   "metadata": {},
   "source": [
    "## DE的使用\n",
    "调用optkit-opt算法库现有的优化算法"
   ]
  },
  {
   "cell_type": "markdown",
   "id": "unique-belgium",
   "metadata": {},
   "source": [
    "### 例一：\n",
    "$$\n",
    "求\\, f(x,y,z) = x^2+y^2+z^2 \\, 的最小值\\\\\n",
    "其中 \\quad 1 \\leq xy \\leq 5,\\quad y+z = 1, \\quad 0\\leq x,y,z \\leq 5\n",
    "$$"
   ]
  },
  {
   "cell_type": "markdown",
   "id": "framed-fusion",
   "metadata": {},
   "source": [
    "定义函数方程式 $f(x,y,z) = x^2+y^2+z^2$"
   ]
  },
  {
   "cell_type": "code",
   "execution_count": 1,
   "id": "exceptional-ridge",
   "metadata": {},
   "outputs": [],
   "source": [
    "def obj_func(p):\n",
    "    x, y, z = p\n",
    "    return x ** 2 + y ** 2 + z ** 2"
   ]
  },
  {
   "cell_type": "markdown",
   "id": "roman-cuisine",
   "metadata": {},
   "source": [
    "定义约束方程等式 $y+z=1$"
   ]
  },
  {
   "cell_type": "code",
   "execution_count": 2,
   "id": "bright-office",
   "metadata": {},
   "outputs": [],
   "source": [
    "constraint_eq = [lambda x: 1 - x[1] - x[2]]"
   ]
  },
  {
   "cell_type": "markdown",
   "id": "qualified-formula",
   "metadata": {},
   "source": [
    "定义约束方程不等式 $1 \\leq xy \\leq 5$"
   ]
  },
  {
   "cell_type": "code",
   "execution_count": 3,
   "id": "gorgeous-jacob",
   "metadata": {},
   "outputs": [],
   "source": [
    "constraint_ueq = [\n",
    "    lambda x: 1 - x[0] * x[1],\n",
    "    lambda x: x[0] * x[1] - 5\n",
    "]"
   ]
  },
  {
   "cell_type": "markdown",
   "id": "electric-issue",
   "metadata": {},
   "source": [
    "进行差分进化算法优化"
   ]
  },
  {
   "cell_type": "code",
   "execution_count": 4,
   "id": "expressed-principle",
   "metadata": {},
   "outputs": [
    {
     "name": "stdout",
     "output_type": "stream",
     "text": [
      "best_x:[1.01625438 0.98409666 0.01590334],\n",
      "best_y:[2.00147212],\n",
      "num_iter:800\n"
     ]
    }
   ],
   "source": [
    "from sko.DE import DE\n",
    "\n",
    "de = DE(func=obj_func, n_dim=3, size_pop=50, max_iter=800, lb=[0, 0, 0], ub=[5, 5, 5],\n",
    "        constraint_eq=constraint_eq, constraint_ueq=constraint_ueq)\n",
    "\n",
    "best_x, best_y = de.run()\n",
    "print(f\"best_x:{best_x},\\nbest_y:{best_y},\\nnum_iter:{de.max_iter}\")"
   ]
  },
  {
   "cell_type": "markdown",
   "id": "senior-victor",
   "metadata": {},
   "source": [
    "------"
   ]
  },
  {
   "cell_type": "markdown",
   "id": "painful-latino",
   "metadata": {},
   "source": [
    "### 例二\n",
    "$$\n",
    "求 \\, f(x,y) = 3cos(xy)+x+y \\, 的最小值 \\\\\n",
    "其中 -4 \\leq x,y \\leq 4\n",
    "$$"
   ]
  },
  {
   "cell_type": "markdown",
   "id": "elder-labor",
   "metadata": {},
   "source": [
    "定义函数方程式 $f(x,y)=3cos(xy)+x+y$"
   ]
  },
  {
   "cell_type": "code",
   "execution_count": 5,
   "id": "cellular-guitar",
   "metadata": {},
   "outputs": [],
   "source": [
    "import numpy as np\n",
    "\n",
    "def obj_func(p):\n",
    "    x,y = p\n",
    "    return 3*np.cos(x * y) + x + y"
   ]
  },
  {
   "cell_type": "markdown",
   "id": "organizational-roller",
   "metadata": {},
   "source": [
    "进行差分进化算法优化"
   ]
  },
  {
   "cell_type": "code",
   "execution_count": 6,
   "id": "descending-lying",
   "metadata": {},
   "outputs": [
    {
     "name": "stdout",
     "output_type": "stream",
     "text": [
      "best_x:[-4.         -3.94784834],\n",
      "best_y:[-10.93741352],\n",
      "num_iter:800\n"
     ]
    }
   ],
   "source": [
    "from sko.DE import DE\n",
    "\n",
    "de = DE(func=obj_func, n_dim=2, size_pop=50, max_iter=800, lb=[-4, -4], ub=[4, 4])\n",
    "\n",
    "best_x, best_y= de.run()\n",
    "print(f\"best_x:{best_x},\\nbest_y:{best_y},\\nnum_iter:{de.max_iter}\")"
   ]
  }
 ],
 "metadata": {
  "kernelspec": {
   "display_name": "Python 3",
   "language": "python",
   "name": "python3"
  },
  "language_info": {
   "codemirror_mode": {
    "name": "ipython",
    "version": 3
   },
   "file_extension": ".py",
   "mimetype": "text/x-python",
   "name": "python",
   "nbconvert_exporter": "python",
   "pygments_lexer": "ipython3",
   "version": "3.8.1"
  }
 },
 "nbformat": 4,
 "nbformat_minor": 5
}
